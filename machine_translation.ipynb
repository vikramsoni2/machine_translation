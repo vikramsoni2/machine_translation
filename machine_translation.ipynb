{
 "cells": [
  {
   "cell_type": "markdown",
   "metadata": {
    "collapsed": true
   },
   "source": [
    "# Artificial Intelligence Nanodegree\n",
    "## Machine Translation Project\n",
    "In this notebook, sections that end with **'(IMPLEMENTATION)'** in the header indicate that the following blocks of code will require additional functionality which you must provide. Please be sure to read the instructions carefully!\n",
    "\n",
    "## Introduction\n",
    "In this notebook, you will build a deep neural network that functions as part of an end-to-end machine translation pipeline. Your completed pipeline will accept English text as input and return the French translation.\n",
    "\n",
    "- **Preprocess** - You'll convert text to sequence of integers.\n",
    "- **Models** Create models which accepts a sequence of integers as input and returns a probability distribution over possible translations. After learning about the basic types of neural networks that are often used for machine translation, you will engage in your own investigations, to design your own model!\n",
    "- **Prediction** Run the model on English text."
   ]
  },
  {
   "cell_type": "code",
   "execution_count": 2,
   "metadata": {},
   "outputs": [],
   "source": [
    "%load_ext autoreload\n",
    "%aimport helper, tests\n",
    "%autoreload 1"
   ]
  },
  {
   "cell_type": "code",
   "execution_count": 16,
   "metadata": {},
   "outputs": [],
   "source": [
    "import collections\n",
    "\n",
    "import helper\n",
    "import numpy as np\n",
    "import project_tests as tests\n",
    "\n",
    "from keras.preprocessing.text import Tokenizer\n",
    "from keras.preprocessing.sequence import pad_sequences\n",
    "from keras.models import Model\n",
    "from keras.layers import GRU, Input, Dense, TimeDistributed, Activation, RepeatVector, Bidirectional, Dropout\n",
    "from keras.layers.embeddings import Embedding\n",
    "from keras.optimizers import Adam\n",
    "from keras.losses import sparse_categorical_crossentropy\n",
    "from keras.callbacks import EarlyStopping, ReduceLROnPlateau, ModelCheckpoint"
   ]
  },
  {
   "cell_type": "markdown",
   "metadata": {},
   "source": [
    "### Verify access to the GPU\n",
    "The following test applies only if you expect to be using a GPU, e.g., while running in a Udacity Workspace or using an AWS instance with GPU support. Run the next cell, and verify that the device_type is \"GPU\".\n",
    "- If the device is not GPU & you are running from a Udacity Workspace, then save your workspace with the icon at the top, then click \"enable\" at the bottom of the workspace.\n",
    "- If the device is not GPU & you are running from an AWS instance, then refer to the cloud computing instructions in the classroom to verify your setup steps."
   ]
  },
  {
   "cell_type": "code",
   "execution_count": 4,
   "metadata": {},
   "outputs": [
    {
     "name": "stdout",
     "output_type": "stream",
     "text": [
      "[name: \"/cpu:0\"\n",
      "device_type: \"CPU\"\n",
      "memory_limit: 268435456\n",
      "locality {\n",
      "}\n",
      "incarnation: 16809639141547341513\n",
      ", name: \"/gpu:0\"\n",
      "device_type: \"GPU\"\n",
      "memory_limit: 357302272\n",
      "locality {\n",
      "  bus_id: 1\n",
      "}\n",
      "incarnation: 15655152364940268556\n",
      "physical_device_desc: \"device: 0, name: Tesla K80, pci bus id: 0000:00:04.0\"\n",
      "]\n"
     ]
    }
   ],
   "source": [
    "from tensorflow.python.client import device_lib\n",
    "print(device_lib.list_local_devices())"
   ]
  },
  {
   "cell_type": "markdown",
   "metadata": {},
   "source": [
    "## Dataset\n",
    "We begin by investigating the dataset that will be used to train and evaluate your pipeline.  The most common datasets used for machine translation are from [WMT](http://www.statmt.org/).  However, that will take a long time to train a neural network on.  We'll be using a dataset we created for this project that contains a small vocabulary.  You'll be able to train your model in a reasonable time with this dataset.\n",
    "### Load Data\n",
    "The data is located in `data/small_vocab_en` and `data/small_vocab_fr`. The `small_vocab_en` file contains English sentences with their French translations in the `small_vocab_fr` file. Load the English and French data from these files from running the cell below."
   ]
  },
  {
   "cell_type": "code",
   "execution_count": 5,
   "metadata": {},
   "outputs": [
    {
     "name": "stdout",
     "output_type": "stream",
     "text": [
      "Dataset Loaded\n"
     ]
    }
   ],
   "source": [
    "# Load English data\n",
    "english_sentences = helper.load_data('data/small_vocab_en')\n",
    "# Load French data\n",
    "french_sentences = helper.load_data('data/small_vocab_fr')\n",
    "\n",
    "print('Dataset Loaded')"
   ]
  },
  {
   "cell_type": "code",
   "execution_count": 6,
   "metadata": {},
   "outputs": [
    {
     "data": {
      "text/plain": [
       "['new jersey is sometimes quiet during autumn , and it is snowy in april .',\n",
       " 'the united states is usually chilly during july , and it is usually freezing in november .',\n",
       " 'california is usually quiet during march , and it is usually hot in june .',\n",
       " 'the united states is sometimes mild during june , and it is cold in september .',\n",
       " 'your least liked fruit is the grape , but my least liked is the apple .']"
      ]
     },
     "execution_count": 6,
     "metadata": {},
     "output_type": "execute_result"
    }
   ],
   "source": [
    "english_sentences[:5]"
   ]
  },
  {
   "cell_type": "markdown",
   "metadata": {},
   "source": [
    "### Files\n",
    "Each line in `small_vocab_en` contains an English sentence with the respective translation in each line of `small_vocab_fr`.  View the first two lines from each file."
   ]
  },
  {
   "cell_type": "code",
   "execution_count": 7,
   "metadata": {},
   "outputs": [
    {
     "name": "stdout",
     "output_type": "stream",
     "text": [
      "small_vocab_en Line 1:  new jersey is sometimes quiet during autumn , and it is snowy in april .\n",
      "small_vocab_fr Line 1:  new jersey est parfois calme pendant l' automne , et il est neigeux en avril .\n",
      "small_vocab_en Line 2:  the united states is usually chilly during july , and it is usually freezing in november .\n",
      "small_vocab_fr Line 2:  les états-unis est généralement froid en juillet , et il gèle habituellement en novembre .\n"
     ]
    }
   ],
   "source": [
    "for sample_i in range(2):\n",
    "    print('small_vocab_en Line {}:  {}'.format(sample_i + 1, english_sentences[sample_i]))\n",
    "    print('small_vocab_fr Line {}:  {}'.format(sample_i + 1, french_sentences[sample_i]))"
   ]
  },
  {
   "cell_type": "markdown",
   "metadata": {},
   "source": [
    "From looking at the sentences, you can see they have been preprocessed already.  The puncuations have been delimited using spaces. All the text have been converted to lowercase.  This should save you some time, but the text requires more preprocessing.\n",
    "### Vocabulary\n",
    "The complexity of the problem is determined by the complexity of the vocabulary.  A more complex vocabulary is a more complex problem.  Let's look at the complexity of the dataset we'll be working with."
   ]
  },
  {
   "cell_type": "code",
   "execution_count": 8,
   "metadata": {},
   "outputs": [
    {
     "name": "stdout",
     "output_type": "stream",
     "text": [
      "1823250 English words.\n",
      "227 unique English words.\n",
      "10 Most common words in the English dataset:\n",
      "\"is\" \",\" \".\" \"in\" \"it\" \"during\" \"the\" \"but\" \"and\" \"sometimes\"\n",
      "\n",
      "1961295 French words.\n",
      "355 unique French words.\n",
      "10 Most common words in the French dataset:\n",
      "\"est\" \".\" \",\" \"en\" \"il\" \"les\" \"mais\" \"et\" \"la\" \"parfois\"\n"
     ]
    }
   ],
   "source": [
    "english_words_counter = collections.Counter([word for sentence in english_sentences for word in sentence.split()])\n",
    "french_words_counter = collections.Counter([word for sentence in french_sentences for word in sentence.split()])\n",
    "\n",
    "print('{} English words.'.format(len([word for sentence in english_sentences for word in sentence.split()])))\n",
    "print('{} unique English words.'.format(len(english_words_counter)))\n",
    "print('10 Most common words in the English dataset:')\n",
    "print('\"' + '\" \"'.join(list(zip(*english_words_counter.most_common(10)))[0]) + '\"')\n",
    "print()\n",
    "print('{} French words.'.format(len([word for sentence in french_sentences for word in sentence.split()])))\n",
    "print('{} unique French words.'.format(len(french_words_counter)))\n",
    "print('10 Most common words in the French dataset:')\n",
    "print('\"' + '\" \"'.join(list(zip(*french_words_counter.most_common(10)))[0]) + '\"')"
   ]
  },
  {
   "cell_type": "markdown",
   "metadata": {},
   "source": [
    "For comparison, _Alice's Adventures in Wonderland_ contains 2,766 unique words of a total of 15,500 words.\n",
    "## Preprocess\n",
    "For this project, you won't use text data as input to your model. Instead, you'll convert the text into sequences of integers using the following preprocess methods:\n",
    "1. Tokenize the words into ids\n",
    "2. Add padding to make all the sequences the same length.\n",
    "\n",
    "Time to start preprocessing the data...\n",
    "### Tokenize (IMPLEMENTATION)\n",
    "For a neural network to predict on text data, it first has to be turned into data it can understand. Text data like \"dog\" is a sequence of ASCII character encodings.  Since a neural network is a series of multiplication and addition operations, the input data needs to be number(s).\n",
    "\n",
    "We can turn each character into a number or each word into a number.  These are called character and word ids, respectively.  Character ids are used for character level models that generate text predictions for each character.  A word level model uses word ids that generate text predictions for each word.  Word level models tend to learn better, since they are lower in complexity, so we'll use those.\n",
    "\n",
    "Turn each sentence into a sequence of words ids using Keras's [`Tokenizer`](https://keras.io/preprocessing/text/#tokenizer) function. Use this function to tokenize `english_sentences` and `french_sentences` in the cell below.\n",
    "\n",
    "Running the cell will run `tokenize` on sample data and show output for debugging."
   ]
  },
  {
   "cell_type": "code",
   "execution_count": 9,
   "metadata": {},
   "outputs": [
    {
     "name": "stdout",
     "output_type": "stream",
     "text": [
      "{'the': 1, 'quick': 2, 'a': 3, 'brown': 4, 'fox': 5, 'jumps': 6, 'over': 7, 'lazy': 8, 'dog': 9, 'by': 10, 'jove': 11, 'my': 12, 'study': 13, 'of': 14, 'lexicography': 15, 'won': 16, 'prize': 17, 'this': 18, 'is': 19, 'short': 20, 'sentence': 21, '<PAD>': 0}\n",
      "\n",
      "Sequence 1 in x\n",
      "  Input:  The quick brown fox jumps over the lazy dog .\n",
      "  Output: [1, 2, 4, 5, 6, 7, 1, 8, 9]\n",
      "Sequence 2 in x\n",
      "  Input:  By Jove , my quick study of lexicography won a prize .\n",
      "  Output: [10, 11, 12, 2, 13, 14, 15, 16, 3, 17]\n",
      "Sequence 3 in x\n",
      "  Input:  This is a short sentence .\n",
      "  Output: [18, 19, 3, 20, 21]\n"
     ]
    }
   ],
   "source": [
    "def tokenize(x):\n",
    "    \"\"\"\n",
    "    Tokenize x\n",
    "    :param x: List of sentences/strings to be tokenized\n",
    "    :return: Tuple of (tokenized x data, tokenizer used to tokenize x)\n",
    "    \"\"\"\n",
    "    # TODO: Implement\n",
    "    tok = Tokenizer()\n",
    "    tok.fit_on_texts(x)\n",
    "    \n",
    "    # assign <PAD> keyword with 0 in tokenizer dict \n",
    "    # because keras pad_sequence will add 0 as padding\n",
    "    tok.word_index['<PAD>'] = 0\n",
    "    \n",
    "    data = tok.texts_to_sequences(x)\n",
    "    \n",
    "    return data, tok\n",
    "tests.test_tokenize(tokenize)\n",
    "\n",
    "# Tokenize Example output\n",
    "text_sentences = [\n",
    "    'The quick brown fox jumps over the lazy dog .',\n",
    "    'By Jove , my quick study of lexicography won a prize .',\n",
    "    'This is a short sentence .']\n",
    "text_tokenized, text_tokenizer = tokenize(text_sentences)\n",
    "print(text_tokenizer.word_index)\n",
    "print()\n",
    "for sample_i, (sent, token_sent) in enumerate(zip(text_sentences, text_tokenized)):\n",
    "    print('Sequence {} in x'.format(sample_i + 1))\n",
    "    print('  Input:  {}'.format(sent))\n",
    "    print('  Output: {}'.format(token_sent))"
   ]
  },
  {
   "cell_type": "markdown",
   "metadata": {},
   "source": [
    "### Padding (IMPLEMENTATION)\n",
    "When batching the sequence of word ids together, each sequence needs to be the same length.  Since sentences are dynamic in length, we can add padding to the end of the sequences to make them the same length.\n",
    "\n",
    "Make sure all the English sequences have the same length and all the French sequences have the same length by adding padding to the **end** of each sequence using Keras's [`pad_sequences`](https://keras.io/preprocessing/sequence/#pad_sequences) function."
   ]
  },
  {
   "cell_type": "code",
   "execution_count": 10,
   "metadata": {},
   "outputs": [
    {
     "data": {
      "text/plain": [
       "[[1, 2, 4, 5, 6, 7, 1, 8, 9],\n",
       " [10, 11, 12, 2, 13, 14, 15, 16, 3, 17],\n",
       " [18, 19, 3, 20, 21]]"
      ]
     },
     "execution_count": 10,
     "metadata": {},
     "output_type": "execute_result"
    }
   ],
   "source": [
    "text_tokenized"
   ]
  },
  {
   "cell_type": "code",
   "execution_count": 11,
   "metadata": {},
   "outputs": [
    {
     "data": {
      "text/plain": [
       "10"
      ]
     },
     "execution_count": 11,
     "metadata": {},
     "output_type": "execute_result"
    }
   ],
   "source": [
    "len(max(text_tokenized, key=len))"
   ]
  },
  {
   "cell_type": "code",
   "execution_count": 12,
   "metadata": {},
   "outputs": [
    {
     "name": "stdout",
     "output_type": "stream",
     "text": [
      "Sequence 1 in x\n",
      "  Input:  [1 2 4 5 6 7 1 8 9]\n",
      "  Output: [1 2 4 5 6 7 1 8 9 0]\n",
      "Sequence 2 in x\n",
      "  Input:  [10 11 12  2 13 14 15 16  3 17]\n",
      "  Output: [10 11 12  2 13 14 15 16  3 17]\n",
      "Sequence 3 in x\n",
      "  Input:  [18 19  3 20 21]\n",
      "  Output: [18 19  3 20 21  0  0  0  0  0]\n"
     ]
    }
   ],
   "source": [
    "def pad(x, length=None):\n",
    "    \"\"\"\n",
    "    Pad x\n",
    "    :param x: List of sequences.\n",
    "    :param length: Length to pad the sequence to.  If None, use length of longest sequence in x.\n",
    "    :return: Padded numpy array of sequences\n",
    "    \"\"\"\n",
    "    # TODO: Implement\n",
    "    if length==None:\n",
    "        length = len(max(x, key=len))\n",
    "    x_padded = pad_sequences(x, maxlen=length, padding='post')\n",
    "    return x_padded\n",
    "\n",
    "tests.test_pad(pad)\n",
    "\n",
    "# Pad Tokenized output\n",
    "test_pad = pad(text_tokenized)\n",
    "for sample_i, (token_sent, pad_sent) in enumerate(zip(text_tokenized, test_pad)):\n",
    "    print('Sequence {} in x'.format(sample_i + 1))\n",
    "    print('  Input:  {}'.format(np.array(token_sent)))\n",
    "    print('  Output: {}'.format(pad_sent))"
   ]
  },
  {
   "cell_type": "markdown",
   "metadata": {},
   "source": [
    "### Preprocess Pipeline\n",
    "Your focus for this project is to build neural network architecture, so we won't ask you to create a preprocess pipeline.  Instead, we've provided you with the implementation of the `preprocess` function."
   ]
  },
  {
   "cell_type": "code",
   "execution_count": 13,
   "metadata": {},
   "outputs": [
    {
     "name": "stdout",
     "output_type": "stream",
     "text": [
      "Data Preprocessed\n",
      "Max English sentence length: 15\n",
      "Max French sentence length: 21\n",
      "English vocabulary size: 200\n",
      "French vocabulary size: 345\n"
     ]
    }
   ],
   "source": [
    "def preprocess(x, y):\n",
    "    \"\"\"\n",
    "    Preprocess x and y\n",
    "    :param x: Feature List of sentences\n",
    "    :param y: Label List of sentences\n",
    "    :return: Tuple of (Preprocessed x, Preprocessed y, x tokenizer, y tokenizer)\n",
    "    \"\"\"\n",
    "    preprocess_x, x_tk = tokenize(x)\n",
    "    preprocess_y, y_tk = tokenize(y)\n",
    "\n",
    "    preprocess_x = pad(preprocess_x)\n",
    "    preprocess_y = pad(preprocess_y)\n",
    "\n",
    "    # Keras's sparse_categorical_crossentropy function requires the labels to be in 3 dimensions\n",
    "    preprocess_y = preprocess_y.reshape(*preprocess_y.shape, 1)\n",
    "    \n",
    "    return preprocess_x, preprocess_y, x_tk, y_tk\n",
    "\n",
    "preproc_english_sentences, preproc_french_sentences, english_tokenizer, french_tokenizer =\\\n",
    "    preprocess(english_sentences, french_sentences)\n",
    "    \n",
    "max_english_sequence_length = preproc_english_sentences.shape[1]\n",
    "max_french_sequence_length = preproc_french_sentences.shape[1]\n",
    "english_vocab_size = len(english_tokenizer.word_index)\n",
    "french_vocab_size = len(french_tokenizer.word_index)\n",
    "\n",
    "print('Data Preprocessed')\n",
    "print(\"Max English sentence length:\", max_english_sequence_length)\n",
    "print(\"Max French sentence length:\", max_french_sequence_length)\n",
    "print(\"English vocabulary size:\", english_vocab_size)\n",
    "print(\"French vocabulary size:\", french_vocab_size)"
   ]
  },
  {
   "cell_type": "markdown",
   "metadata": {},
   "source": [
    "## Models\n",
    "In this section, you will experiment with various neural network architectures.\n",
    "You will begin by training four relatively simple architectures.\n",
    "- Model 1 is a simple RNN\n",
    "- Model 2 is a RNN with Embedding\n",
    "- Model 3 is a Bidirectional RNN\n",
    "- Model 4 is an Encoder-Decoder RNN\n",
    "\n",
    "After experimenting with the four simple architectures, you will construct a deeper architecture that is designed to outperform all four models.\n",
    "### Ids Back to Text\n",
    "The neural network will be translating the input to words ids, which isn't the final form we want.  We want the French translation.  The function `logits_to_text` will bridge the gab between the logits from the neural network to the French translation.  You'll be using this function to better understand the output of the neural network."
   ]
  },
  {
   "cell_type": "code",
   "execution_count": 13,
   "metadata": {},
   "outputs": [
    {
     "name": "stdout",
     "output_type": "stream",
     "text": [
      "`logits_to_text` function loaded.\n"
     ]
    }
   ],
   "source": [
    "def logits_to_text(logits, tokenizer):\n",
    "    \"\"\"\n",
    "    Turn logits from a neural network into text using the tokenizer\n",
    "    :param logits: Logits from a neural network\n",
    "    :param tokenizer: Keras Tokenizer fit on the labels\n",
    "    :return: String that represents the text of the logits\n",
    "    \"\"\"\n",
    "    index_to_words = {id: word for word, id in tokenizer.word_index.items()}\n",
    "    index_to_words[0] = '<PAD>'\n",
    "\n",
    "    return ' '.join([index_to_words[prediction] for prediction in np.argmax(logits, 1)])\n",
    "\n",
    "print('`logits_to_text` function loaded.')"
   ]
  },
  {
   "cell_type": "markdown",
   "metadata": {},
   "source": [
    "### Model 1: RNN (IMPLEMENTATION)\n",
    "![RNN](images/rnn.png)\n",
    "A basic RNN model is a good baseline for sequence data.  In this model, you'll build a RNN that translates English to French."
   ]
  },
  {
   "cell_type": "code",
   "execution_count": 15,
   "metadata": {
    "scrolled": false
   },
   "outputs": [
    {
     "name": "stdout",
     "output_type": "stream",
     "text": [
      "Train on 68930 samples, validate on 68931 samples\n",
      "Epoch 1/10\n",
      "68930/68930 [==============================] - 14s 201us/step - loss: 2.0215 - acc: 0.5427 - val_loss: 1.4786 - val_acc: 0.6040\n",
      "Epoch 2/10\n",
      "68930/68930 [==============================] - 13s 193us/step - loss: 1.3564 - acc: 0.6239 - val_loss: 1.2532 - val_acc: 0.6392\n",
      "Epoch 3/10\n",
      "68930/68930 [==============================] - 13s 191us/step - loss: 1.1871 - acc: 0.6516 - val_loss: 1.1300 - val_acc: 0.6667\n",
      "Epoch 4/10\n",
      "68930/68930 [==============================] - 13s 193us/step - loss: 1.0957 - acc: 0.6665 - val_loss: 1.0626 - val_acc: 0.6700\n",
      "Epoch 5/10\n",
      "68930/68930 [==============================] - 13s 191us/step - loss: 1.0346 - acc: 0.6738 - val_loss: 1.0093 - val_acc: 0.6797\n",
      "Epoch 6/10\n",
      "68930/68930 [==============================] - 13s 193us/step - loss: 0.9846 - acc: 0.6821 - val_loss: 0.9640 - val_acc: 0.6830\n",
      "Epoch 7/10\n",
      "68930/68930 [==============================] - 13s 192us/step - loss: 0.9417 - acc: 0.6907 - val_loss: 0.9332 - val_acc: 0.6874\n",
      "Epoch 8/10\n",
      "68930/68930 [==============================] - 13s 193us/step - loss: 0.9065 - acc: 0.6988 - val_loss: 0.8869 - val_acc: 0.6989\n",
      "Epoch 9/10\n",
      "68930/68930 [==============================] - 13s 191us/step - loss: 0.8716 - acc: 0.7084 - val_loss: 0.8470 - val_acc: 0.7221\n",
      "Epoch 10/10\n",
      "68930/68930 [==============================] - 13s 193us/step - loss: 0.8303 - acc: 0.7266 - val_loss: 0.8284 - val_acc: 0.7313\n",
      "new jersey is sometimes quiet during autumn , and it is snowy in april .\n",
      "new jersey est parfois calme pendant l' automne , et il est neigeux en avril .\n",
      "new jersey est parfois chaud en mois et il et il est en en <PAD> <PAD> <PAD> <PAD> <PAD> <PAD> <PAD>\n"
     ]
    }
   ],
   "source": [
    "def simple_model(input_shape, output_sequence_length, english_vocab_size, french_vocab_size):\n",
    "    \"\"\"\n",
    "    Build and train a basic RNN on x and y\n",
    "    :param input_shape: Tuple of input shape\n",
    "    :param output_sequence_length: Length of output sequence\n",
    "    :param english_vocab_size: Number of unique English words in the dataset\n",
    "    :param french_vocab_size: Number of unique French words in the dataset\n",
    "    :return: Keras model built, but not trained\n",
    "    \"\"\"\n",
    "    # TODO: Build the layers\n",
    "    \n",
    "    input_seq = Input(input_shape[1:])\n",
    "    x = GRU(256, return_sequences=True)(input_seq)\n",
    "    output_seq = TimeDistributed(Dense(french_vocab_size, activation='softmax'))(x)\n",
    "    \n",
    "    model = Model(input_seq, output_seq)\n",
    "\n",
    "    learning_rate = 0.001\n",
    "    model.compile(loss=sparse_categorical_crossentropy,\n",
    "                  optimizer=Adam(learning_rate),\n",
    "                  metrics=['accuracy'])\n",
    "    \n",
    "    return model\n",
    "\n",
    "tests.test_simple_model(simple_model)\n",
    "\n",
    "# Reshaping the input to work with a basic RNN\n",
    "tmp_x = pad(preproc_english_sentences, max_french_sequence_length)\n",
    "tmp_x = tmp_x.reshape((-1, preproc_french_sentences.shape[-2], 1))\n",
    "\n",
    "# Train the neural network\n",
    "simple_rnn_model = simple_model(\n",
    "    tmp_x.shape,\n",
    "    max_french_sequence_length,\n",
    "    english_vocab_size,\n",
    "    french_vocab_size)\n",
    "\n",
    "simple_rnn_model.fit(tmp_x.astype('float'), preproc_french_sentences, batch_size=256, epochs=10, validation_split=0.5)\n",
    "                    \n",
    "\n",
    "\n",
    "print(english_sentences[0])\n",
    "print(french_sentences[0])\n",
    "# Print prediction(s)\n",
    "print(logits_to_text(simple_rnn_model.predict(tmp_x[:1])[0], french_tokenizer))"
   ]
  },
  {
   "cell_type": "code",
   "execution_count": 16,
   "metadata": {},
   "outputs": [
    {
     "data": {
      "text/plain": [
       "array([], shape=(0, 3), dtype=int64)"
      ]
     },
     "execution_count": 16,
     "metadata": {},
     "output_type": "execute_result"
    }
   ],
   "source": [
    "np.argwhere(np.isinf(tmp_x)) "
   ]
  },
  {
   "cell_type": "markdown",
   "metadata": {},
   "source": [
    "### Model 2: Embedding (IMPLEMENTATION)\n",
    "![RNN](images/embedding.png)\n",
    "You've turned the words into ids, but there's a better representation of a word.  This is called word embeddings.  An embedding is a vector representation of the word that is close to similar words in n-dimensional space, where the n represents the size of the embedding vectors.\n",
    "\n",
    "In this model, you'll create a RNN model using embedding."
   ]
  },
  {
   "cell_type": "code",
   "execution_count": 17,
   "metadata": {},
   "outputs": [
    {
     "name": "stdout",
     "output_type": "stream",
     "text": [
      "Train on 110288 samples, validate on 27573 samples\n",
      "Epoch 1/10\n",
      "110288/110288 [==============================] - 38s 342us/step - loss: 1.9800 - acc: 0.5229 - val_loss: 0.6916 - val_acc: 0.7788\n",
      "Epoch 2/10\n",
      "110288/110288 [==============================] - 37s 336us/step - loss: 0.6007 - acc: 0.8048 - val_loss: 0.4545 - val_acc: 0.8479\n",
      "Epoch 3/10\n",
      "110288/110288 [==============================] - 37s 337us/step - loss: 0.4477 - acc: 0.8512 - val_loss: 0.3834 - val_acc: 0.8697\n",
      "Epoch 4/10\n",
      "110288/110288 [==============================] - 37s 336us/step - loss: 0.3908 - acc: 0.8670 - val_loss: 0.3523 - val_acc: 0.8778\n",
      "Epoch 5/10\n",
      "110288/110288 [==============================] - 37s 336us/step - loss: 0.3609 - acc: 0.8754 - val_loss: 0.3370 - val_acc: 0.8825\n",
      "Epoch 6/10\n",
      "110288/110288 [==============================] - 37s 335us/step - loss: 0.3419 - acc: 0.8805 - val_loss: 0.3293 - val_acc: 0.8848\n",
      "Epoch 7/10\n",
      "110288/110288 [==============================] - 37s 335us/step - loss: 0.3307 - acc: 0.8836 - val_loss: 0.3212 - val_acc: 0.8865\n",
      "Epoch 8/10\n",
      "110288/110288 [==============================] - 37s 335us/step - loss: 0.3225 - acc: 0.8854 - val_loss: 0.3127 - val_acc: 0.8891\n",
      "Epoch 9/10\n",
      "110288/110288 [==============================] - 37s 335us/step - loss: 0.3149 - acc: 0.8874 - val_loss: 0.3110 - val_acc: 0.8891\n",
      "Epoch 10/10\n",
      "110288/110288 [==============================] - 37s 335us/step - loss: 0.3105 - acc: 0.8881 - val_loss: 0.3162 - val_acc: 0.8876\n",
      "new jersey is sometimes quiet during autumn , and it is snowy in april .\n",
      "new jersey est parfois calme pendant l' automne , et il est neigeux en avril .\n",
      "new jersey est parfois calme en l' automne et il est neigeux en en en en en en en en en\n"
     ]
    }
   ],
   "source": [
    "def embed_model(input_shape, output_sequence_length, english_vocab_size, french_vocab_size):\n",
    "    \"\"\"\n",
    "    Build and train a RNN model using word embedding on x and y\n",
    "    :param input_shape: Tuple of input shape\n",
    "    :param output_sequence_length: Length of output sequence\n",
    "    :param english_vocab_size: Number of unique English words in the dataset\n",
    "    :param french_vocab_size: Number of unique French words in the dataset\n",
    "    :return: Keras model built, but not trained\n",
    "    \"\"\"\n",
    "    # TODO: Implement\n",
    "    input_seq = Input(input_shape[1:])\n",
    "    x = Embedding(english_vocab_size, 256, mask_zero=True)(input_seq)\n",
    "    x = GRU(256, return_sequences=True)(x)\n",
    "    x = TimeDistributed(Dense(1024, activation='relu'))(x)\n",
    "    x = Dropout(0.5)(x)\n",
    "    output_seq = TimeDistributed(Dense(french_vocab_size, activation='softmax'))(x)\n",
    "    \n",
    "    model = Model(input_seq, output_seq)\n",
    "\n",
    "    learning_rate=0.005\n",
    "    model.compile(loss=sparse_categorical_crossentropy, optimizer=Adam(learning_rate), metrics=['accuracy'])\n",
    "    \n",
    "    return model\n",
    "\n",
    "tests.test_embed_model(embed_model)\n",
    "\n",
    "\n",
    "# TODO: Reshape the input\n",
    "tmp_x = pad(preproc_english_sentences, max_french_sequence_length)\n",
    "tmp_x = tmp_x.reshape((-1, preproc_french_sentences.shape[-2]))\n",
    "\n",
    "# TODO: Train the neural network\n",
    "emb_rnn_model = embed_model(\n",
    "    tmp_x.shape,\n",
    "    max_french_sequence_length,\n",
    "    english_vocab_size,\n",
    "    french_vocab_size)\n",
    "\n",
    "emb_rnn_model.fit(tmp_x, preproc_french_sentences, batch_size=1024, epochs=10, validation_split=0.2)\n",
    "\n",
    "print(english_sentences[0])\n",
    "print(french_sentences[0])\n",
    "# TODO: Print prediction(s)\n",
    "print(logits_to_text(emb_rnn_model.predict(tmp_x[:1])[0], french_tokenizer))"
   ]
  },
  {
   "cell_type": "markdown",
   "metadata": {},
   "source": [
    "### Model 3: Bidirectional RNNs (IMPLEMENTATION)\n",
    "![RNN](images/bidirectional.png)\n",
    "One restriction of a RNN is that it can't see the future input, only the past.  This is where bidirectional recurrent neural networks come in.  They are able to see the future data."
   ]
  },
  {
   "cell_type": "code",
   "execution_count": 18,
   "metadata": {},
   "outputs": [
    {
     "name": "stdout",
     "output_type": "stream",
     "text": [
      "Train on 110288 samples, validate on 27573 samples\n",
      "Epoch 1/10\n",
      "110288/110288 [==============================] - 99s 894us/step - loss: 1.1441 - acc: 0.6583 - val_loss: 0.8580 - val_acc: 0.7104\n",
      "Epoch 2/10\n",
      "110288/110288 [==============================] - 96s 872us/step - loss: 0.9061 - acc: 0.6937 - val_loss: 0.7892 - val_acc: 0.7183\n",
      "Epoch 3/10\n",
      "110288/110288 [==============================] - 95s 857us/step - loss: 0.8189 - acc: 0.7145 - val_loss: 0.6610 - val_acc: 0.7662\n",
      "Epoch 4/10\n",
      "110288/110288 [==============================] - 95s 857us/step - loss: 0.7524 - acc: 0.7365 - val_loss: 0.7522 - val_acc: 0.7361\n",
      "Epoch 5/10\n",
      "110288/110288 [==============================] - 95s 858us/step - loss: 0.7427 - acc: 0.7342 - val_loss: 0.6331 - val_acc: 0.7542\n",
      "Epoch 6/10\n",
      "110288/110288 [==============================] - 95s 859us/step - loss: 0.7250 - acc: 0.7385 - val_loss: 0.6300 - val_acc: 0.7577\n",
      "Epoch 7/10\n",
      "110288/110288 [==============================] - 95s 861us/step - loss: 0.7117 - acc: 0.7414 - val_loss: 0.6329 - val_acc: 0.7860\n",
      "Epoch 8/10\n",
      "110288/110288 [==============================] - 94s 850us/step - loss: 0.7012 - acc: 0.7457 - val_loss: 0.5830 - val_acc: 0.7830\n",
      "Epoch 9/10\n",
      "110288/110288 [==============================] - 94s 850us/step - loss: 0.7062 - acc: 0.7401 - val_loss: 0.5648 - val_acc: 0.7847\n",
      "Epoch 10/10\n",
      "110288/110288 [==============================] - 94s 850us/step - loss: 0.6883 - acc: 0.7469 - val_loss: 0.5694 - val_acc: 0.7751\n",
      "new jersey is sometimes quiet during autumn , and it is snowy in april .\n",
      "new jersey est parfois calme pendant l' automne , et il est neigeux en avril .\n",
      "new jersey est parfois parfois en l' et il est neigeux en en <PAD> <PAD> <PAD> <PAD> <PAD> <PAD> <PAD> <PAD>\n"
     ]
    }
   ],
   "source": [
    "def bd_model(input_shape, output_sequence_length, english_vocab_size, french_vocab_size):\n",
    "    \"\"\"\n",
    "    Build and train a bidirectional RNN model on x and y\n",
    "    :param input_shape: Tuple of input shape\n",
    "    :param output_sequence_length: Length of output sequence\n",
    "    :param english_vocab_size: Number of unique English words in the dataset\n",
    "    :param french_vocab_size: Number of unique French words in the dataset\n",
    "    :return: Keras model built, but not trained\n",
    "    \"\"\"\n",
    "    # TODO: Implement\n",
    "    input_seq = Input(input_shape[1:])\n",
    "    x = Bidirectional(GRU(128, return_sequences=True))(input_seq)\n",
    "    x = TimeDistributed(Dense(1024, activation='relu'))(x)\n",
    "    x = Dropout(0.5)(x)\n",
    "    output_seq = TimeDistributed(Dense(french_vocab_size, activation='softmax'))(x)\n",
    "    \n",
    "    model = Model(input_seq, output_seq)\n",
    "    \n",
    "    learning_rate = 0.005\n",
    "    model.compile(loss=sparse_categorical_crossentropy,\n",
    "                  optimizer=Adam(learning_rate),\n",
    "                  metrics=['accuracy'])\n",
    "    \n",
    "    return model\n",
    "\n",
    "tests.test_bd_model(bd_model)\n",
    "\n",
    "\n",
    "# TODO: Train and Print prediction(s)\n",
    "tmp_x = pad(preproc_english_sentences, max_french_sequence_length)\n",
    "tmp_x = tmp_x.reshape((-1, preproc_french_sentences.shape[-2], 1))\n",
    "\n",
    "\n",
    "bd_rnn_model = bd_model(\n",
    "    tmp_x.shape,\n",
    "    max_french_sequence_length,\n",
    "    english_vocab_size,\n",
    "    french_vocab_size)\n",
    "\n",
    "bd_rnn_model.fit(tmp_x, preproc_french_sentences, batch_size=64, epochs=10, validation_split=0.2)\n",
    "\n",
    "print(english_sentences[0])\n",
    "print(french_sentences[0])\n",
    "print(logits_to_text(bd_rnn_model.predict(tmp_x[:1])[0], french_tokenizer))"
   ]
  },
  {
   "cell_type": "code",
   "execution_count": 19,
   "metadata": {},
   "outputs": [
    {
     "data": {
      "text/plain": [
       "(137861, 21, 1)"
      ]
     },
     "execution_count": 19,
     "metadata": {},
     "output_type": "execute_result"
    }
   ],
   "source": [
    "tmp_x.shape"
   ]
  },
  {
   "cell_type": "markdown",
   "metadata": {},
   "source": [
    "### Model 4: Encoder-Decoder (IMPLEMENTATION)\n",
    "Time to look at encoder-decoder models.  This model is made up of an encoder and decoder. The encoder creates a matrix representation of the sentence.  The decoder takes this matrix as input and predicts the translation as output.\n",
    "\n",
    "Create an encoder-decoder model in the cell below."
   ]
  },
  {
   "cell_type": "code",
   "execution_count": 20,
   "metadata": {},
   "outputs": [
    {
     "name": "stdout",
     "output_type": "stream",
     "text": [
      "Train on 110288 samples, validate on 27573 samples\n",
      "Epoch 1/10\n",
      "110288/110288 [==============================] - 40s 363us/step - loss: 1.9395 - acc: 0.5414 - val_loss: 1.3363 - val_acc: 0.6272\n",
      "Epoch 2/10\n",
      "110288/110288 [==============================] - 39s 356us/step - loss: 1.3087 - acc: 0.6343 - val_loss: 1.2433 - val_acc: 0.6449\n",
      "Epoch 3/10\n",
      "110288/110288 [==============================] - 39s 356us/step - loss: 1.2185 - acc: 0.6532 - val_loss: 1.1141 - val_acc: 0.6730\n",
      "Epoch 4/10\n",
      "110288/110288 [==============================] - 39s 357us/step - loss: 1.1628 - acc: 0.6644 - val_loss: 1.0990 - val_acc: 0.6756\n",
      "Epoch 5/10\n",
      "110288/110288 [==============================] - 39s 356us/step - loss: 1.1006 - acc: 0.6784 - val_loss: 1.0700 - val_acc: 0.6827\n",
      "Epoch 6/10\n",
      "110288/110288 [==============================] - 39s 356us/step - loss: 1.1147 - acc: 0.6736 - val_loss: 1.1348 - val_acc: 0.6637\n",
      "Epoch 7/10\n",
      "110288/110288 [==============================] - 39s 356us/step - loss: 1.1369 - acc: 0.6645 - val_loss: 1.0328 - val_acc: 0.6855\n",
      "Epoch 8/10\n",
      "110288/110288 [==============================] - 39s 356us/step - loss: 1.0284 - acc: 0.6848 - val_loss: 0.9576 - val_acc: 0.6963\n",
      "Epoch 9/10\n",
      "110288/110288 [==============================] - 39s 357us/step - loss: 1.0358 - acc: 0.6806 - val_loss: 0.9435 - val_acc: 0.6985\n",
      "Epoch 10/10\n",
      "110288/110288 [==============================] - 39s 356us/step - loss: 0.9749 - acc: 0.6919 - val_loss: 0.9267 - val_acc: 0.6979\n",
      "new jersey is sometimes quiet during autumn , and it is snowy in april .\n",
      "new jersey est parfois calme pendant l' automne , et il est neigeux en avril .\n",
      "new jersey est jamais chaud en mois et il est chaud en en <PAD> <PAD> <PAD> <PAD> <PAD> <PAD> <PAD> <PAD>\n"
     ]
    }
   ],
   "source": [
    "def encdec_model(input_shape, output_sequence_length, english_vocab_size, french_vocab_size):\n",
    "    \"\"\"\n",
    "    Build and train an encoder-decoder model on x and y\n",
    "    :param input_shape: Tuple of input shape\n",
    "    :param output_sequence_length: Length of output sequence\n",
    "    :param english_vocab_size: Number of unique English words in the dataset\n",
    "    :param french_vocab_size: Number of unique French words in the dataset\n",
    "    :return: Keras model built, but not trained\n",
    "    \"\"\"\n",
    "    # TODO: Implement\n",
    "    \n",
    "    # encoder\n",
    "    input_seq = Input(input_shape[1:])\n",
    "    x = GRU(256)(input_seq)\n",
    "    x = RepeatVector(output_sequence_length)(x)\n",
    "    \n",
    "    # decoder\n",
    "    x = GRU(256, return_sequences=True)(x)\n",
    "    x = TimeDistributed(Dense(1024, activation='relu'))(x)\n",
    "    x = Dropout(0.5)(x)\n",
    "    output_seq = TimeDistributed(Dense(french_vocab_size, activation='softmax'))(x)\n",
    "    \n",
    "    model = Model(input_seq, output_seq)\n",
    "    \n",
    "    learning_rate = 0.005\n",
    "    model.compile(loss=sparse_categorical_crossentropy,\n",
    "                  optimizer=Adam(learning_rate),\n",
    "                  metrics=['accuracy'])\n",
    "    \n",
    "    return model\n",
    "\n",
    "tests.test_encdec_model(encdec_model)\n",
    "\n",
    "\n",
    "# TODO: Train and Print prediction(s)\n",
    "tmp_x = pad(preproc_english_sentences, max_french_sequence_length)\n",
    "tmp_x = tmp_x.reshape((-1, preproc_french_sentences.shape[-2], 1))\n",
    "\n",
    "\n",
    "encdec_rnn_model = encdec_model(\n",
    "    tmp_x.shape,\n",
    "    max_french_sequence_length,\n",
    "    english_vocab_size,\n",
    "    french_vocab_size)\n",
    "encdec_rnn_model.fit(tmp_x, preproc_french_sentences, batch_size=256, epochs=10, validation_split=0.2)\n",
    "\n",
    "print(english_sentences[0])\n",
    "print(french_sentences[0])\n",
    "print(logits_to_text(encdec_rnn_model.predict(tmp_x[:1])[0], french_tokenizer))"
   ]
  },
  {
   "cell_type": "markdown",
   "metadata": {},
   "source": [
    "### Model 5: Custom (IMPLEMENTATION)\n",
    "Use everything you learned from the previous models to create a model that incorporates embedding and a bidirectional rnn into one model."
   ]
  },
  {
   "cell_type": "code",
   "execution_count": 21,
   "metadata": {},
   "outputs": [
    {
     "name": "stdout",
     "output_type": "stream",
     "text": [
      "Final Model Loaded\n",
      "Train on 110288 samples, validate on 27573 samples\n",
      "Epoch 1/10\n",
      "110288/110288 [==============================] - 79s 715us/step - loss: 2.4582 - acc: 0.4740 - val_loss: 1.7760 - val_acc: 0.5578\n",
      "Epoch 2/10\n",
      "110288/110288 [==============================] - 78s 703us/step - loss: 1.4064 - acc: 0.6278 - val_loss: 1.1670 - val_acc: 0.6819\n",
      "Epoch 3/10\n",
      "110288/110288 [==============================] - 78s 703us/step - loss: 1.0401 - acc: 0.7039 - val_loss: 0.8382 - val_acc: 0.7500\n",
      "Epoch 4/10\n",
      "110288/110288 [==============================] - 77s 702us/step - loss: 0.7981 - acc: 0.7564 - val_loss: 0.6262 - val_acc: 0.8083\n",
      "Epoch 5/10\n",
      "110288/110288 [==============================] - 77s 702us/step - loss: 0.6904 - acc: 0.7841 - val_loss: 0.5190 - val_acc: 0.8353\n",
      "Epoch 6/10\n",
      "110288/110288 [==============================] - 77s 702us/step - loss: 0.5134 - acc: 0.8370 - val_loss: 0.3809 - val_acc: 0.8855\n",
      "Epoch 7/10\n",
      "110288/110288 [==============================] - 78s 704us/step - loss: 0.4077 - acc: 0.8723 - val_loss: 0.3113 - val_acc: 0.9058\n",
      "Epoch 8/10\n",
      "110288/110288 [==============================] - 77s 702us/step - loss: 0.5076 - acc: 0.8484 - val_loss: 0.6635 - val_acc: 0.7879\n",
      "Epoch 9/10\n",
      "110288/110288 [==============================] - 77s 702us/step - loss: 0.4644 - acc: 0.8535 - val_loss: 0.2781 - val_acc: 0.9172\n",
      "Epoch 10/10\n",
      "110288/110288 [==============================] - 77s 700us/step - loss: 0.3085 - acc: 0.9045 - val_loss: 0.2093 - val_acc: 0.9375\n",
      "new jersey is sometimes quiet during autumn , and it is snowy in april .\n",
      "new jersey est parfois calme pendant l' automne , et il est neigeux en avril .\n",
      "new jersey est parfois calme pendant l'automne et il est neigeux en avril <PAD> <PAD> <PAD> <PAD> <PAD> <PAD> <PAD> <PAD>\n"
     ]
    }
   ],
   "source": [
    "def model_final(input_shape, output_sequence_length, english_vocab_size, french_vocab_size):\n",
    "    \"\"\"\n",
    "    Build and train a model that incorporates embedding, encoder-decoder, and bidirectional RNN on x and y\n",
    "    :param input_shape: Tuple of input shape\n",
    "    :param output_sequence_length: Length of output sequence\n",
    "    :param english_vocab_size: Number of unique English words in the dataset\n",
    "    :param french_vocab_size: Number of unique French words in the dataset\n",
    "    :return: Keras model built, but not trained\n",
    "    \"\"\"\n",
    "    # TODO: Implement\n",
    "    \n",
    "    # encoder\n",
    "    input_seq = Input(input_shape[1:])\n",
    "    x = Embedding(english_vocab_size, 256, mask_zero=True)(input_seq)\n",
    "    x = Bidirectional(GRU(256))(x)\n",
    "    x = RepeatVector(output_sequence_length)(x)\n",
    "    \n",
    "    # decoder\n",
    "    x = Bidirectional(GRU(256, return_sequences=True))(x)\n",
    "    x = TimeDistributed(Dense(1024, activation='relu'))(x)\n",
    "    x = Dropout(0.5)(x)\n",
    "    output_seq = TimeDistributed(Dense(french_vocab_size, activation='softmax'))(x)\n",
    "    \n",
    "    model = Model(input_seq, output_seq)\n",
    "    \n",
    "    learning_rate = 0.002\n",
    "    model.compile(loss=sparse_categorical_crossentropy,\n",
    "                  optimizer=Adam(learning_rate),\n",
    "                  metrics=['accuracy'])\n",
    "    \n",
    "    return model\n",
    "\n",
    "tests.test_model_final(model_final)\n",
    "\n",
    "print('Final Model Loaded')\n",
    "\n",
    "# TODO: Train the final model\n",
    "tmp_x = pad(preproc_english_sentences, max_french_sequence_length)\n",
    "tmp_x = tmp_x.reshape((-1, preproc_french_sentences.shape[-2]))\n",
    "\n",
    "f_model = model_final(\n",
    "    tmp_x.shape,\n",
    "    max_french_sequence_length,\n",
    "    english_vocab_size,\n",
    "    french_vocab_size)\n",
    "\n",
    "f_model.fit(tmp_x, preproc_french_sentences, batch_size=1024, epochs=10, validation_split=0.2)\n",
    "    \n",
    "print(english_sentences[0])\n",
    "print(french_sentences[0])\n",
    "print(logits_to_text(f_model.predict(tmp_x[:1])[0], french_tokenizer))"
   ]
  },
  {
   "cell_type": "markdown",
   "metadata": {},
   "source": [
    "## Prediction (IMPLEMENTATION)"
   ]
  },
  {
   "cell_type": "code",
   "execution_count": 15,
   "metadata": {},
   "outputs": [],
   "source": [
    "import matplotlib.pyplot as plt"
   ]
  },
  {
   "cell_type": "code",
   "execution_count": 17,
   "metadata": {
    "scrolled": false
   },
   "outputs": [
    {
     "name": "stdout",
     "output_type": "stream",
     "text": [
      "Train on 68930 samples, validate on 68931 samples\n",
      "Epoch 1/50\n",
      "68608/68930 [============================>.] - ETA: 0s - loss: 2.8029 - acc: 0.4364Epoch 00001: val_loss improved from inf to 1.87904, saving model to model-best.hdf5\n",
      "68930/68930 [==============================] - 70s 1ms/step - loss: 2.7989 - acc: 0.4367 - val_loss: 1.8790 - val_acc: 0.5361\n",
      "Epoch 2/50\n",
      "68608/68930 [============================>.] - ETA: 0s - loss: 1.7070 - acc: 0.5641Epoch 00002: val_loss improved from 1.87904 to 1.38370, saving model to model-best.hdf5\n",
      "68930/68930 [==============================] - 67s 974us/step - loss: 1.7058 - acc: 0.5644 - val_loss: 1.3837 - val_acc: 0.6334\n",
      "Epoch 3/50\n",
      "68608/68930 [============================>.] - ETA: 0s - loss: 1.3541 - acc: 0.6374Epoch 00003: val_loss improved from 1.38370 to 1.16883, saving model to model-best.hdf5\n",
      "68930/68930 [==============================] - 67s 974us/step - loss: 1.3535 - acc: 0.6375 - val_loss: 1.1688 - val_acc: 0.6775\n",
      "Epoch 4/50\n",
      "68608/68930 [============================>.] - ETA: 0s - loss: 1.1467 - acc: 0.6782Epoch 00004: val_loss improved from 1.16883 to 0.98762, saving model to model-best.hdf5\n",
      "68930/68930 [==============================] - 67s 975us/step - loss: 1.1460 - acc: 0.6784 - val_loss: 0.9876 - val_acc: 0.7165\n",
      "Epoch 5/50\n",
      "68608/68930 [============================>.] - ETA: 0s - loss: 0.9604 - acc: 0.7189Epoch 00005: val_loss improved from 0.98762 to 0.80682, saving model to model-best.hdf5\n",
      "68930/68930 [==============================] - 67s 976us/step - loss: 0.9600 - acc: 0.7190 - val_loss: 0.8068 - val_acc: 0.7577\n",
      "Epoch 6/50\n",
      "68608/68930 [============================>.] - ETA: 0s - loss: 0.8635 - acc: 0.7403Epoch 00006: val_loss improved from 0.80682 to 0.70001, saving model to model-best.hdf5\n",
      "68930/68930 [==============================] - 67s 973us/step - loss: 0.8631 - acc: 0.7404 - val_loss: 0.7000 - val_acc: 0.7868\n",
      "Epoch 7/50\n",
      "68608/68930 [============================>.] - ETA: 0s - loss: 0.7498 - acc: 0.7679Epoch 00007: val_loss did not improve\n",
      "68930/68930 [==============================] - 67s 974us/step - loss: 0.7499 - acc: 0.7678 - val_loss: 0.7352 - val_acc: 0.7665\n",
      "Epoch 8/50\n",
      "68608/68930 [============================>.] - ETA: 0s - loss: 0.6373 - acc: 0.8004Epoch 00008: val_loss improved from 0.70001 to 0.51116, saving model to model-best.hdf5\n",
      "68930/68930 [==============================] - 67s 973us/step - loss: 0.6370 - acc: 0.8005 - val_loss: 0.5112 - val_acc: 0.8426\n",
      "Epoch 9/50\n",
      "68608/68930 [============================>.] - ETA: 0s - loss: 0.5342 - acc: 0.8326Epoch 00009: val_loss improved from 0.51116 to 0.43052, saving model to model-best.hdf5\n",
      "68930/68930 [==============================] - 67s 974us/step - loss: 0.5341 - acc: 0.8326 - val_loss: 0.4305 - val_acc: 0.8691\n",
      "Epoch 10/50\n",
      "68608/68930 [============================>.] - ETA: 0s - loss: 0.4602 - acc: 0.8565Epoch 00010: val_loss improved from 0.43052 to 0.35921, saving model to model-best.hdf5\n",
      "68930/68930 [==============================] - 67s 973us/step - loss: 0.4599 - acc: 0.8566 - val_loss: 0.3592 - val_acc: 0.8927\n",
      "Epoch 11/50\n",
      "68608/68930 [============================>.] - ETA: 0s - loss: 0.5690 - acc: 0.8223Epoch 00011: val_loss did not improve\n",
      "68930/68930 [==============================] - 67s 973us/step - loss: 0.5691 - acc: 0.8222 - val_loss: 0.4763 - val_acc: 0.8570\n",
      "Epoch 12/50\n",
      "68608/68930 [============================>.] - ETA: 0s - loss: 0.4407 - acc: 0.8613Epoch 00012: val_loss improved from 0.35921 to 0.28438, saving model to model-best.hdf5\n",
      "68930/68930 [==============================] - 67s 978us/step - loss: 0.4404 - acc: 0.8614 - val_loss: 0.2844 - val_acc: 0.9173\n",
      "Epoch 13/50\n",
      "68608/68930 [============================>.] - ETA: 0s - loss: 0.3191 - acc: 0.9024Epoch 00013: val_loss improved from 0.28438 to 0.24960, saving model to model-best.hdf5\n",
      "68930/68930 [==============================] - 67s 979us/step - loss: 0.3189 - acc: 0.9024 - val_loss: 0.2496 - val_acc: 0.9262\n",
      "Epoch 14/50\n",
      "68608/68930 [============================>.] - ETA: 0s - loss: 0.2770 - acc: 0.9155Epoch 00014: val_loss improved from 0.24960 to 0.21177, saving model to model-best.hdf5\n",
      "68930/68930 [==============================] - 67s 978us/step - loss: 0.2770 - acc: 0.9155 - val_loss: 0.2118 - val_acc: 0.9371\n",
      "Epoch 15/50\n",
      "68608/68930 [============================>.] - ETA: 0s - loss: 0.2673 - acc: 0.9181Epoch 00015: val_loss improved from 0.21177 to 0.19568, saving model to model-best.hdf5\n",
      "68930/68930 [==============================] - 67s 979us/step - loss: 0.2672 - acc: 0.9181 - val_loss: 0.1957 - val_acc: 0.9396\n",
      "Epoch 16/50\n",
      "68608/68930 [============================>.] - ETA: 0s - loss: 0.2141 - acc: 0.9350Epoch 00016: val_loss improved from 0.19568 to 0.18471, saving model to model-best.hdf5\n",
      "68930/68930 [==============================] - 67s 978us/step - loss: 0.2139 - acc: 0.9350 - val_loss: 0.1847 - val_acc: 0.9459\n",
      "Epoch 17/50\n",
      "68608/68930 [============================>.] - ETA: 0s - loss: 0.1940 - acc: 0.9404Epoch 00017: val_loss improved from 0.18471 to 0.15864, saving model to model-best.hdf5\n",
      "68930/68930 [==============================] - 67s 976us/step - loss: 0.1940 - acc: 0.9404 - val_loss: 0.1586 - val_acc: 0.9518\n",
      "Epoch 18/50\n",
      "68608/68930 [============================>.] - ETA: 0s - loss: 0.1813 - acc: 0.9439Epoch 00018: val_loss improved from 0.15864 to 0.14620, saving model to model-best.hdf5\n",
      "68930/68930 [==============================] - 67s 975us/step - loss: 0.1813 - acc: 0.9439 - val_loss: 0.1462 - val_acc: 0.9554\n",
      "Epoch 19/50\n",
      "68608/68930 [============================>.] - ETA: 0s - loss: 0.1580 - acc: 0.9512Epoch 00019: val_loss improved from 0.14620 to 0.13830, saving model to model-best.hdf5\n",
      "68930/68930 [==============================] - 67s 974us/step - loss: 0.1581 - acc: 0.9512 - val_loss: 0.1383 - val_acc: 0.9579\n",
      "Epoch 20/50\n",
      "68608/68930 [============================>.] - ETA: 0s - loss: 0.1590 - acc: 0.9506Epoch 00020: val_loss improved from 0.13830 to 0.12978, saving model to model-best.hdf5\n",
      "68930/68930 [==============================] - 67s 974us/step - loss: 0.1589 - acc: 0.9507 - val_loss: 0.1298 - val_acc: 0.9598\n",
      "Epoch 21/50\n",
      "68608/68930 [============================>.] - ETA: 0s - loss: 0.1372 - acc: 0.9572Epoch 00021: val_loss improved from 0.12978 to 0.12682, saving model to model-best.hdf5\n",
      "68930/68930 [==============================] - 67s 974us/step - loss: 0.1372 - acc: 0.9573 - val_loss: 0.1268 - val_acc: 0.9601\n",
      "Epoch 22/50\n",
      "68608/68930 [============================>.] - ETA: 0s - loss: 0.1239 - acc: 0.9612Epoch 00022: val_loss improved from 0.12682 to 0.11640, saving model to model-best.hdf5\n",
      "68930/68930 [==============================] - 67s 976us/step - loss: 0.1241 - acc: 0.9611 - val_loss: 0.1164 - val_acc: 0.9646\n",
      "Epoch 23/50\n",
      "68608/68930 [============================>.] - ETA: 0s - loss: 0.1140 - acc: 0.9644Epoch 00023: val_loss improved from 0.11640 to 0.10277, saving model to model-best.hdf5\n",
      "68930/68930 [==============================] - 67s 977us/step - loss: 0.1139 - acc: 0.9644 - val_loss: 0.1028 - val_acc: 0.9681\n",
      "Epoch 24/50\n",
      "68608/68930 [============================>.] - ETA: 0s - loss: 0.1138 - acc: 0.9642Epoch 00024: val_loss did not improve\n",
      "68930/68930 [==============================] - 67s 976us/step - loss: 0.1137 - acc: 0.9643 - val_loss: 0.1292 - val_acc: 0.9604\n",
      "Epoch 25/50\n",
      "68608/68930 [============================>.] - ETA: 0s - loss: 0.1053 - acc: 0.9670Epoch 00025: val_loss improved from 0.10277 to 0.09713, saving model to model-best.hdf5\n",
      "68930/68930 [==============================] - 67s 978us/step - loss: 0.1052 - acc: 0.9670 - val_loss: 0.0971 - val_acc: 0.9707\n",
      "Epoch 26/50\n",
      "68608/68930 [============================>.] - ETA: 0s - loss: 0.4732 - acc: 0.8591Epoch 00026: val_loss did not improve\n",
      "68930/68930 [==============================] - 67s 978us/step - loss: 0.4718 - acc: 0.8595 - val_loss: 0.1419 - val_acc: 0.9587\n",
      "Epoch 27/50\n",
      "68608/68930 [============================>.] - ETA: 0s - loss: 0.1487 - acc: 0.9562\n",
      "Epoch 00027: reducing learning rate to 0.0004000000189989805.\n",
      "Epoch 00027: val_loss did not improve\n",
      "68930/68930 [==============================] - 67s 975us/step - loss: 0.1485 - acc: 0.9562 - val_loss: 0.1087 - val_acc: 0.9685\n"
     ]
    },
    {
     "name": "stdout",
     "output_type": "stream",
     "text": [
      "Epoch 28/50\n",
      "68608/68930 [============================>.] - ETA: 0s - loss: 0.0997 - acc: 0.9709Epoch 00028: val_loss improved from 0.09713 to 0.09200, saving model to model-best.hdf5\n",
      "68930/68930 [==============================] - 68s 980us/step - loss: 0.0996 - acc: 0.9709 - val_loss: 0.0920 - val_acc: 0.9739\n",
      "Epoch 29/50\n",
      "68608/68930 [============================>.] - ETA: 0s - loss: 0.0885 - acc: 0.9741Epoch 00029: val_loss improved from 0.09200 to 0.08994, saving model to model-best.hdf5\n",
      "68930/68930 [==============================] - 67s 976us/step - loss: 0.0885 - acc: 0.9741 - val_loss: 0.0899 - val_acc: 0.9748\n",
      "Epoch 30/50\n",
      "68608/68930 [============================>.] - ETA: 0s - loss: 0.0832 - acc: 0.9757Epoch 00030: val_loss improved from 0.08994 to 0.08774, saving model to model-best.hdf5\n",
      "68930/68930 [==============================] - 67s 975us/step - loss: 0.0832 - acc: 0.9757 - val_loss: 0.0877 - val_acc: 0.9752\n",
      "Epoch 31/50\n",
      "68608/68930 [============================>.] - ETA: 0s - loss: 0.0781 - acc: 0.9771Epoch 00031: val_loss did not improve\n",
      "68930/68930 [==============================] - 67s 978us/step - loss: 0.0782 - acc: 0.9771 - val_loss: 0.0889 - val_acc: 0.9758\n",
      "Epoch 32/50\n",
      "68608/68930 [============================>.] - ETA: 0s - loss: 0.0747 - acc: 0.9779\n",
      "Epoch 00032: reducing learning rate to 8.000000379979611e-05.\n",
      "Epoch 00032: val_loss improved from 0.08774 to 0.08767, saving model to model-best.hdf5\n",
      "68930/68930 [==============================] - 67s 977us/step - loss: 0.0746 - acc: 0.9779 - val_loss: 0.0877 - val_acc: 0.9764\n",
      "Epoch 33/50\n",
      "68608/68930 [============================>.] - ETA: 0s - loss: 0.0694 - acc: 0.9796Epoch 00033: val_loss improved from 0.08767 to 0.08604, saving model to model-best.hdf5\n",
      "68930/68930 [==============================] - 67s 977us/step - loss: 0.0693 - acc: 0.9797 - val_loss: 0.0860 - val_acc: 0.9767\n",
      "Epoch 34/50\n",
      "68608/68930 [============================>.] - ETA: 0s - loss: 0.0673 - acc: 0.9802Epoch 00034: val_loss improved from 0.08604 to 0.08561, saving model to model-best.hdf5\n",
      "68930/68930 [==============================] - 67s 977us/step - loss: 0.0672 - acc: 0.9802 - val_loss: 0.0856 - val_acc: 0.9771\n",
      "Epoch 35/50\n",
      "68608/68930 [============================>.] - ETA: 0s - loss: 0.0662 - acc: 0.9806Epoch 00035: val_loss did not improve\n",
      "68930/68930 [==============================] - 67s 976us/step - loss: 0.0662 - acc: 0.9806 - val_loss: 0.0862 - val_acc: 0.9770\n",
      "Epoch 36/50\n",
      "68608/68930 [============================>.] - ETA: 0s - loss: 0.0652 - acc: 0.9809Epoch 00036: val_loss improved from 0.08561 to 0.08550, saving model to model-best.hdf5\n",
      "68930/68930 [==============================] - 67s 978us/step - loss: 0.0653 - acc: 0.9809 - val_loss: 0.0855 - val_acc: 0.9772\n",
      "Epoch 37/50\n",
      "68608/68930 [============================>.] - ETA: 0s - loss: 0.0647 - acc: 0.9810Epoch 00037: val_loss did not improve\n",
      "68930/68930 [==============================] - 68s 981us/step - loss: 0.0647 - acc: 0.9811 - val_loss: 0.0856 - val_acc: 0.9773\n",
      "Epoch 38/50\n",
      "68608/68930 [============================>.] - ETA: 0s - loss: 0.0638 - acc: 0.9814Epoch 00038: val_loss improved from 0.08550 to 0.08508, saving model to model-best.hdf5\n",
      "68930/68930 [==============================] - 68s 980us/step - loss: 0.0639 - acc: 0.9813 - val_loss: 0.0851 - val_acc: 0.9776\n",
      "Epoch 39/50\n",
      "68608/68930 [============================>.] - ETA: 0s - loss: 0.0629 - acc: 0.9816Epoch 00039: val_loss did not improve\n",
      "68930/68930 [==============================] - 67s 979us/step - loss: 0.0630 - acc: 0.9816 - val_loss: 0.0857 - val_acc: 0.9776\n",
      "Epoch 40/50\n",
      "68608/68930 [============================>.] - ETA: 0s - loss: 0.0622 - acc: 0.9819\n",
      "Epoch 00040: reducing learning rate to 1.6000001050997525e-05.\n",
      "Epoch 00040: val_loss did not improve\n",
      "68930/68930 [==============================] - 67s 978us/step - loss: 0.0622 - acc: 0.9819 - val_loss: 0.0858 - val_acc: 0.9777\n",
      "Epoch 41/50\n",
      "68608/68930 [============================>.] - ETA: 0s - loss: 0.0613 - acc: 0.9820\n",
      "Epoch 00041: reducing learning rate to 1e-05.\n",
      "Epoch 00041: val_loss did not improve\n",
      "68930/68930 [==============================] - 67s 976us/step - loss: 0.0613 - acc: 0.9820 - val_loss: 0.0857 - val_acc: 0.9778\n",
      "Epoch 00041: early stopping\n"
     ]
    },
    {
     "data": {
      "image/png": "[encoded data removed]",
      "text/plain": [
       "<matplotlib.figure.Figure at 0x7f880664ffd0>"
      ]
     },
     "metadata": {
      "needs_background": "light"
     },
     "output_type": "display_data"
    },
    {
     "name": "stdout",
     "output_type": "stream",
     "text": [
      "Sample 1:\n",
      "il a vu un vieux camion jaune <PAD> <PAD> <PAD> <PAD> <PAD> <PAD> <PAD> <PAD> <PAD> <PAD> <PAD> <PAD> <PAD> <PAD>\n",
      "Il a vu un vieux camion jaune\n",
      "Sample 2:\n",
      "new jersey est parfois calme pendant l' automne et il est neigeux en avril <PAD> <PAD> <PAD> <PAD> <PAD> <PAD> <PAD>\n",
      "new jersey est parfois calme pendant l' automne et il est neigeux en avril <PAD> <PAD> <PAD> <PAD> <PAD> <PAD> <PAD>\n"
     ]
    }
   ],
   "source": [
    "def final_predictions(x, y, x_tk, y_tk):\n",
    "    \"\"\"\n",
    "    Gets predictions using the final model\n",
    "    :param x: Preprocessed English data\n",
    "    :param y: Preprocessed French data\n",
    "    :param x_tk: English tokenizer\n",
    "    :param y_tk: French tokenizer\n",
    "    \"\"\"\n",
    "    # TODO: Train neural network using model_final\n",
    "    \n",
    "    model = model_final(\n",
    "                x.shape,\n",
    "                y.shape[1],\n",
    "                len(x_tk.word_index),\n",
    "                len(y_tk.word_index))\n",
    "    \n",
    "    filepath=\"model-best.hdf5\"\n",
    "    earlystop = EarlyStopping(monitor='val_loss', patience=3, verbose=1)\n",
    "    reduce_lr = ReduceLROnPlateau(monitor='val_loss', patience=1, factor=0.2, min_lr=0.00001, verbose=1)\n",
    "    chkpt = ModelCheckpoint(filepath, monitor='val_loss', save_best_only=True, verbose=1)\n",
    "    \n",
    "    history = model.fit(x, y, \n",
    "                batch_size=1024, epochs=50, validation_split=0.5,\n",
    "                callbacks = [earlystop, reduce_lr, chkpt])\n",
    "\n",
    "    plt.plot(history.history['acc'], label='Training Accuracy')\n",
    "    plt.plot(history.history['val_acc'], label='Validation Accuracy')\n",
    "    plt.legend()\n",
    "    plt.xlabel('Epochs')\n",
    "    plt.ylabel('Accuracy')\n",
    "    plt.show()\n",
    "    \n",
    "    model.load_weights(\"model-best.hdf5\")\n",
    "    \n",
    "    ## DON'T EDIT ANYTHING BELOW THIS LINE\n",
    "    y_id_to_word = {value: key for key, value in y_tk.word_index.items()}\n",
    "    y_id_to_word[0] = '<PAD>'\n",
    "\n",
    "    sentence = 'he saw a old yellow truck'\n",
    "    sentence = [x_tk.word_index[word] for word in sentence.split()]\n",
    "    sentence = pad_sequences([sentence], maxlen=x.shape[-1], padding='post')\n",
    "    sentences = np.array([sentence[0], x[0]])\n",
    "    predictions = model.predict(sentences, len(sentences))\n",
    "\n",
    "    print('Sample 1:')\n",
    "    print(' '.join([y_id_to_word[np.argmax(x)] for x in predictions[0]]))\n",
    "    print('Il a vu un vieux camion jaune')\n",
    "    print('Sample 2:')\n",
    "    print(' '.join([y_id_to_word[np.argmax(x)] for x in predictions[1]]))\n",
    "    print(' '.join([y_id_to_word[np.max(x)] for x in y[0]]))\n",
    "\n",
    "\n",
    "final_predictions(preproc_english_sentences, preproc_french_sentences, english_tokenizer, french_tokenizer)"
   ]
  },
  {
   "cell_type": "markdown",
   "metadata": {},
   "source": [
    "## Submission\n",
    "When you're ready to submit, complete the following steps:\n",
    "1. Review the rubric to ensure your submission meets all requirements to pass\n",
    "2. Generate an HTML version of this notebook\n",
    "\n",
    "  - Run the next cell to attempt automatic generation (this is the recommended method in Workspaces)\n",
    "  - Navigate to **FILE -> Download as -> HTML (.html)**\n",
    "  - Manually generate a copy using `nbconvert` from your shell terminal\n",
    "```\n",
    "$ pip install nbconvert\n",
    "$ python -m nbconvert machine_translation.ipynb\n",
    "```\n",
    "  \n",
    "3. Submit the project\n",
    "\n",
    "  - If you are in a Workspace, simply click the \"Submit Project\" button (bottom towards the right)\n",
    "  \n",
    "  - Otherwise, add the following files into a zip archive and submit them \n",
    "  - `helper.py`\n",
    "  - `machine_translation.ipynb`\n",
    "  - `machine_translation.html`\n",
    "    - You can export the notebook by navigating to **File -> Download as -> HTML (.html)**."
   ]
  },
  {
   "cell_type": "markdown",
   "metadata": {},
   "source": [
    "### Generate the html\n",
    "\n",
    "**Save your notebook before running the next cell to generate the HTML output.** Then submit your project."
   ]
  },
  {
   "cell_type": "code",
   "execution_count": 19,
   "metadata": {},
   "outputs": [
    {
     "name": "stdout",
     "output_type": "stream",
     "text": [
      "[NbConvertApp] Converting notebook machine_translation.ipynb to html\n",
      "[NbConvertApp] Writing 415872 bytes to machine_translation.html\n"
     ]
    }
   ],
   "source": [
    "!python -m nbconvert machine_translation.ipynb"
   ]
  },
  {
   "cell_type": "code",
   "execution_count": null,
   "metadata": {},
   "outputs": [],
   "source": [
    "# Save before you run this cell!\n",
    "!!jupyter nbconvert *.ipynb"
   ]
  },
  {
   "cell_type": "markdown",
   "metadata": {},
   "source": [
    "## Optional Enhancements\n",
    "\n",
    "This project focuses on learning various network architectures for machine translation, but we don't evaluate the models according to best practices by splitting the data into separate test & training sets -- so the model accuracy is overstated. Use the [`sklearn.model_selection.train_test_split()`](http://scikit-learn.org/stable/modules/generated/sklearn.model_selection.train_test_split.html) function to create separate training & test datasets, then retrain each of the models using only the training set and evaluate the prediction accuracy using the hold out test set. Does the \"best\" model change?"
   ]
  }
 ],
 "metadata": {
  "kernelspec": {
   "display_name": "Python 3",
   "language": "python",
   "name": "python3"
  },
  "language_info": {
   "codemirror_mode": {
    "name": "ipython",
    "version": 3
   },
   "file_extension": ".py",
   "mimetype": "text/x-python",
   "name": "python",
   "nbconvert_exporter": "python",
   "pygments_lexer": "ipython3",
   "version": "3.6.3"
  }
 },
 "nbformat": 4,
 "nbformat_minor": 1
}
